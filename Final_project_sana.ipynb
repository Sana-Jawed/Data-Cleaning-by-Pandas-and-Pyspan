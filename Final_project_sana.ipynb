{
  "cells": [
    {
      "cell_type": "markdown",
      "metadata": {
        "id": "view-in-github",
        "colab_type": "text"
      },
      "source": [
        "<a href=\"https://colab.research.google.com/github/Sana-Jawed/Data-Cleaning-by-Pandas-and-Pyspan/blob/main/Final_project_sana.ipynb\" target=\"_parent\"><img src=\"https://colab.research.google.com/assets/colab-badge.svg\" alt=\"Open In Colab\"/></a>"
      ]
    },
    {
      "cell_type": "markdown",
      "source": [
        "NOTEBOOK BY SANA JAWED\n",
        "**Key Insights of flight dataset**\n",
        "\n",
        "Age of Members:\n",
        "\n",
        "Most frequent flyers are between 35-45 years old.\n",
        "Fewer older customers fly regularly, which could be a missed opportunity.\n",
        "\n",
        "Frequent Flyer Program Levels:\n",
        "\n",
        "Most customers are in the basic tier (Tier 4), while only a few are in the top tiers (Tier 5 & 6), showing the highest loyalty.\n",
        "\n",
        "Flight History:\n",
        "\n",
        "Data on first and last flights can help track customer patterns, like when they join or stop flying.\n",
        "\n",
        "Outliers:\n",
        "\n",
        "Some customers stand out with much higher flight activity and should be targeted with special deals.\n",
        "\n",
        "**Business Improvement Suggestions**\n",
        "\n",
        "Target Customers Aged 35-45:\n",
        "\n",
        " Create special offers for this age group, as they make up the majority of frequent flyers.\n",
        "\n",
        "Increase Loyalty: Encourage Tier 4 customers to fly more by offering incentives to move up to higher tiers.\n",
        "\n",
        "Retain Top Flyers: Offer exclusive perks to keep high-tier members flying regularly.\n",
        "\n",
        "Fix Data Issues: Address missing or unusual data to improve accuracy.\n",
        "Reduce Customer Churn: Create offers for customers who have stopped flying to bring them back.\n",
        "\n",
        "Using these insights can help improve customer loyalty, grow sales, and retain more frequent flyers."
      ],
      "metadata": {
        "id": "XVxa0vak9tD4"
      }
    },
    {
      "cell_type": "code",
      "execution_count": null,
      "metadata": {
        "colab": {
          "base_uri": "https://localhost:8080/"
        },
        "id": "UBF02alugsW3",
        "outputId": "2df4daa7-d829-4ab1-87a8-eee60102d86d"
      },
      "outputs": [
        {
          "output_type": "stream",
          "name": "stdout",
          "text": [
            "Collecting pyspan\n",
            "  Downloading pyspan-0.2.7-py3-none-any.whl.metadata (19 kB)\n",
            "Requirement already satisfied: numpy<2.0.0 in /usr/local/lib/python3.10/dist-packages (from pyspan) (1.26.4)\n",
            "Requirement already satisfied: pandas<=2.2.2 in /usr/local/lib/python3.10/dist-packages (from pyspan) (2.2.2)\n",
            "Collecting pyspellchecker==0.8.1 (from pyspan)\n",
            "  Downloading pyspellchecker-0.8.1-py3-none-any.whl.metadata (9.4 kB)\n",
            "Requirement already satisfied: python-dateutil>=2.8.2 in /usr/local/lib/python3.10/dist-packages (from pandas<=2.2.2->pyspan) (2.8.2)\n",
            "Requirement already satisfied: pytz>=2020.1 in /usr/local/lib/python3.10/dist-packages (from pandas<=2.2.2->pyspan) (2024.2)\n",
            "Requirement already satisfied: tzdata>=2022.7 in /usr/local/lib/python3.10/dist-packages (from pandas<=2.2.2->pyspan) (2024.2)\n",
            "Requirement already satisfied: six>=1.5 in /usr/local/lib/python3.10/dist-packages (from python-dateutil>=2.8.2->pandas<=2.2.2->pyspan) (1.16.0)\n",
            "Downloading pyspan-0.2.7-py3-none-any.whl (18 kB)\n",
            "Downloading pyspellchecker-0.8.1-py3-none-any.whl (6.8 MB)\n",
            "\u001b[2K   \u001b[90m━━━━━━━━━━━━━━━━━━━━━━━━━━━━━━━━━━━━━━━━\u001b[0m \u001b[32m6.8/6.8 MB\u001b[0m \u001b[31m48.1 MB/s\u001b[0m eta \u001b[36m0:00:00\u001b[0m\n",
            "\u001b[?25hInstalling collected packages: pyspellchecker, pyspan\n",
            "Successfully installed pyspan-0.2.7 pyspellchecker-0.8.1\n"
          ]
        }
      ],
      "source": [
        "\n",
        "import pandas as pd\n",
        "!pip install pyspan\n",
        "import pyspan as ps\n",
        "import matplotlib.pyplot as plt\n",
        "\n"
      ]
    },
    {
      "cell_type": "code",
      "execution_count": null,
      "metadata": {
        "colab": {
          "base_uri": "https://localhost:8080/",
          "height": 273
        },
        "id": "4SiVnrxelm0W",
        "outputId": "04180558-f1ef-4d8c-c35c-197b570d61d5"
      },
      "outputs": [
        {
          "output_type": "execute_result",
          "data": {
            "text/plain": [
              "   MEMBER_NO   FFP_DATE FIRST_FLIGHT_DATE GENDER  FFP_TIER    WORK_CITY  \\\n",
              "0      54993  11/2/2006        12/24/2008   Male         6            .   \n",
              "1      28065  2/19/2007          8/3/2007   Male         6          NaN   \n",
              "2      55106   2/1/2007         8/30/2007   Male         6            .   \n",
              "3      21189  8/22/2008         8/23/2008   Male         5  Los Angeles   \n",
              "4      39546  4/10/2009         4/15/2009   Male         6      guiyang   \n",
              "\n",
              "  WORK_PROVINCE WORK_COUNTRY   AGE  LOAD_TIME  ...  SUM_YR_2  SEG_KM_SUM  \\\n",
              "0       beijing           CN  31.0  3/31/2014  ...  234188.0      580717   \n",
              "1       beijing           CN  42.0  3/31/2014  ...  167434.0      293678   \n",
              "2       beijing           CN  40.0  3/31/2014  ...  164982.0      283712   \n",
              "3            CA           US  64.0  3/31/2014  ...  125500.0      281336   \n",
              "4       guizhou           CN  48.0  3/31/2014  ...  130702.0      309928   \n",
              "\n",
              "   LAST_FLIGHT_DATE  LAST_TO_END  AVG_INTERVAL MAX_INTERVAL  EXCHANGE_COUNT  \\\n",
              "0         3/31/2014            1      3.483254           18              34   \n",
              "1         3/25/2014            7      5.194245           17              29   \n",
              "2         3/21/2014           11      5.298507           18              20   \n",
              "3        12/26/2013           97     27.863636           73              11   \n",
              "4         3/27/2014            5      4.788079           47              27   \n",
              "\n",
              "   avg_discount  Points_Sum  Point_NotFlight  \n",
              "0      0.961639      619760               50  \n",
              "1      1.252314      415768               33  \n",
              "2      1.254676      406361               26  \n",
              "3      1.090870      372204               12  \n",
              "4      0.970658      338813               39  \n",
              "\n",
              "[5 rows x 23 columns]"
            ],
            "text/html": [
              "\n",
              "  <div id=\"df-6e1ecdc9-74f9-4f4a-a7d8-4975450c0b0b\" class=\"colab-df-container\">\n",
              "    <div>\n",
              "<style scoped>\n",
              "    .dataframe tbody tr th:only-of-type {\n",
              "        vertical-align: middle;\n",
              "    }\n",
              "\n",
              "    .dataframe tbody tr th {\n",
              "        vertical-align: top;\n",
              "    }\n",
              "\n",
              "    .dataframe thead th {\n",
              "        text-align: right;\n",
              "    }\n",
              "</style>\n",
              "<table border=\"1\" class=\"dataframe\">\n",
              "  <thead>\n",
              "    <tr style=\"text-align: right;\">\n",
              "      <th></th>\n",
              "      <th>MEMBER_NO</th>\n",
              "      <th>FFP_DATE</th>\n",
              "      <th>FIRST_FLIGHT_DATE</th>\n",
              "      <th>GENDER</th>\n",
              "      <th>FFP_TIER</th>\n",
              "      <th>WORK_CITY</th>\n",
              "      <th>WORK_PROVINCE</th>\n",
              "      <th>WORK_COUNTRY</th>\n",
              "      <th>AGE</th>\n",
              "      <th>LOAD_TIME</th>\n",
              "      <th>...</th>\n",
              "      <th>SUM_YR_2</th>\n",
              "      <th>SEG_KM_SUM</th>\n",
              "      <th>LAST_FLIGHT_DATE</th>\n",
              "      <th>LAST_TO_END</th>\n",
              "      <th>AVG_INTERVAL</th>\n",
              "      <th>MAX_INTERVAL</th>\n",
              "      <th>EXCHANGE_COUNT</th>\n",
              "      <th>avg_discount</th>\n",
              "      <th>Points_Sum</th>\n",
              "      <th>Point_NotFlight</th>\n",
              "    </tr>\n",
              "  </thead>\n",
              "  <tbody>\n",
              "    <tr>\n",
              "      <th>0</th>\n",
              "      <td>54993</td>\n",
              "      <td>11/2/2006</td>\n",
              "      <td>12/24/2008</td>\n",
              "      <td>Male</td>\n",
              "      <td>6</td>\n",
              "      <td>.</td>\n",
              "      <td>beijing</td>\n",
              "      <td>CN</td>\n",
              "      <td>31.0</td>\n",
              "      <td>3/31/2014</td>\n",
              "      <td>...</td>\n",
              "      <td>234188.0</td>\n",
              "      <td>580717</td>\n",
              "      <td>3/31/2014</td>\n",
              "      <td>1</td>\n",
              "      <td>3.483254</td>\n",
              "      <td>18</td>\n",
              "      <td>34</td>\n",
              "      <td>0.961639</td>\n",
              "      <td>619760</td>\n",
              "      <td>50</td>\n",
              "    </tr>\n",
              "    <tr>\n",
              "      <th>1</th>\n",
              "      <td>28065</td>\n",
              "      <td>2/19/2007</td>\n",
              "      <td>8/3/2007</td>\n",
              "      <td>Male</td>\n",
              "      <td>6</td>\n",
              "      <td>NaN</td>\n",
              "      <td>beijing</td>\n",
              "      <td>CN</td>\n",
              "      <td>42.0</td>\n",
              "      <td>3/31/2014</td>\n",
              "      <td>...</td>\n",
              "      <td>167434.0</td>\n",
              "      <td>293678</td>\n",
              "      <td>3/25/2014</td>\n",
              "      <td>7</td>\n",
              "      <td>5.194245</td>\n",
              "      <td>17</td>\n",
              "      <td>29</td>\n",
              "      <td>1.252314</td>\n",
              "      <td>415768</td>\n",
              "      <td>33</td>\n",
              "    </tr>\n",
              "    <tr>\n",
              "      <th>2</th>\n",
              "      <td>55106</td>\n",
              "      <td>2/1/2007</td>\n",
              "      <td>8/30/2007</td>\n",
              "      <td>Male</td>\n",
              "      <td>6</td>\n",
              "      <td>.</td>\n",
              "      <td>beijing</td>\n",
              "      <td>CN</td>\n",
              "      <td>40.0</td>\n",
              "      <td>3/31/2014</td>\n",
              "      <td>...</td>\n",
              "      <td>164982.0</td>\n",
              "      <td>283712</td>\n",
              "      <td>3/21/2014</td>\n",
              "      <td>11</td>\n",
              "      <td>5.298507</td>\n",
              "      <td>18</td>\n",
              "      <td>20</td>\n",
              "      <td>1.254676</td>\n",
              "      <td>406361</td>\n",
              "      <td>26</td>\n",
              "    </tr>\n",
              "    <tr>\n",
              "      <th>3</th>\n",
              "      <td>21189</td>\n",
              "      <td>8/22/2008</td>\n",
              "      <td>8/23/2008</td>\n",
              "      <td>Male</td>\n",
              "      <td>5</td>\n",
              "      <td>Los Angeles</td>\n",
              "      <td>CA</td>\n",
              "      <td>US</td>\n",
              "      <td>64.0</td>\n",
              "      <td>3/31/2014</td>\n",
              "      <td>...</td>\n",
              "      <td>125500.0</td>\n",
              "      <td>281336</td>\n",
              "      <td>12/26/2013</td>\n",
              "      <td>97</td>\n",
              "      <td>27.863636</td>\n",
              "      <td>73</td>\n",
              "      <td>11</td>\n",
              "      <td>1.090870</td>\n",
              "      <td>372204</td>\n",
              "      <td>12</td>\n",
              "    </tr>\n",
              "    <tr>\n",
              "      <th>4</th>\n",
              "      <td>39546</td>\n",
              "      <td>4/10/2009</td>\n",
              "      <td>4/15/2009</td>\n",
              "      <td>Male</td>\n",
              "      <td>6</td>\n",
              "      <td>guiyang</td>\n",
              "      <td>guizhou</td>\n",
              "      <td>CN</td>\n",
              "      <td>48.0</td>\n",
              "      <td>3/31/2014</td>\n",
              "      <td>...</td>\n",
              "      <td>130702.0</td>\n",
              "      <td>309928</td>\n",
              "      <td>3/27/2014</td>\n",
              "      <td>5</td>\n",
              "      <td>4.788079</td>\n",
              "      <td>47</td>\n",
              "      <td>27</td>\n",
              "      <td>0.970658</td>\n",
              "      <td>338813</td>\n",
              "      <td>39</td>\n",
              "    </tr>\n",
              "  </tbody>\n",
              "</table>\n",
              "<p>5 rows × 23 columns</p>\n",
              "</div>\n",
              "    <div class=\"colab-df-buttons\">\n",
              "\n",
              "  <div class=\"colab-df-container\">\n",
              "    <button class=\"colab-df-convert\" onclick=\"convertToInteractive('df-6e1ecdc9-74f9-4f4a-a7d8-4975450c0b0b')\"\n",
              "            title=\"Convert this dataframe to an interactive table.\"\n",
              "            style=\"display:none;\">\n",
              "\n",
              "  <svg xmlns=\"http://www.w3.org/2000/svg\" height=\"24px\" viewBox=\"0 -960 960 960\">\n",
              "    <path d=\"M120-120v-720h720v720H120Zm60-500h600v-160H180v160Zm220 220h160v-160H400v160Zm0 220h160v-160H400v160ZM180-400h160v-160H180v160Zm440 0h160v-160H620v160ZM180-180h160v-160H180v160Zm440 0h160v-160H620v160Z\"/>\n",
              "  </svg>\n",
              "    </button>\n",
              "\n",
              "  <style>\n",
              "    .colab-df-container {\n",
              "      display:flex;\n",
              "      gap: 12px;\n",
              "    }\n",
              "\n",
              "    .colab-df-convert {\n",
              "      background-color: #E8F0FE;\n",
              "      border: none;\n",
              "      border-radius: 50%;\n",
              "      cursor: pointer;\n",
              "      display: none;\n",
              "      fill: #1967D2;\n",
              "      height: 32px;\n",
              "      padding: 0 0 0 0;\n",
              "      width: 32px;\n",
              "    }\n",
              "\n",
              "    .colab-df-convert:hover {\n",
              "      background-color: #E2EBFA;\n",
              "      box-shadow: 0px 1px 2px rgba(60, 64, 67, 0.3), 0px 1px 3px 1px rgba(60, 64, 67, 0.15);\n",
              "      fill: #174EA6;\n",
              "    }\n",
              "\n",
              "    .colab-df-buttons div {\n",
              "      margin-bottom: 4px;\n",
              "    }\n",
              "\n",
              "    [theme=dark] .colab-df-convert {\n",
              "      background-color: #3B4455;\n",
              "      fill: #D2E3FC;\n",
              "    }\n",
              "\n",
              "    [theme=dark] .colab-df-convert:hover {\n",
              "      background-color: #434B5C;\n",
              "      box-shadow: 0px 1px 3px 1px rgba(0, 0, 0, 0.15);\n",
              "      filter: drop-shadow(0px 1px 2px rgba(0, 0, 0, 0.3));\n",
              "      fill: #FFFFFF;\n",
              "    }\n",
              "  </style>\n",
              "\n",
              "    <script>\n",
              "      const buttonEl =\n",
              "        document.querySelector('#df-6e1ecdc9-74f9-4f4a-a7d8-4975450c0b0b button.colab-df-convert');\n",
              "      buttonEl.style.display =\n",
              "        google.colab.kernel.accessAllowed ? 'block' : 'none';\n",
              "\n",
              "      async function convertToInteractive(key) {\n",
              "        const element = document.querySelector('#df-6e1ecdc9-74f9-4f4a-a7d8-4975450c0b0b');\n",
              "        const dataTable =\n",
              "          await google.colab.kernel.invokeFunction('convertToInteractive',\n",
              "                                                    [key], {});\n",
              "        if (!dataTable) return;\n",
              "\n",
              "        const docLinkHtml = 'Like what you see? Visit the ' +\n",
              "          '<a target=\"_blank\" href=https://colab.research.google.com/notebooks/data_table.ipynb>data table notebook</a>'\n",
              "          + ' to learn more about interactive tables.';\n",
              "        element.innerHTML = '';\n",
              "        dataTable['output_type'] = 'display_data';\n",
              "        await google.colab.output.renderOutput(dataTable, element);\n",
              "        const docLink = document.createElement('div');\n",
              "        docLink.innerHTML = docLinkHtml;\n",
              "        element.appendChild(docLink);\n",
              "      }\n",
              "    </script>\n",
              "  </div>\n",
              "\n",
              "\n",
              "<div id=\"df-9c436931-dc7b-4c18-900a-8cdf2184a26a\">\n",
              "  <button class=\"colab-df-quickchart\" onclick=\"quickchart('df-9c436931-dc7b-4c18-900a-8cdf2184a26a')\"\n",
              "            title=\"Suggest charts\"\n",
              "            style=\"display:none;\">\n",
              "\n",
              "<svg xmlns=\"http://www.w3.org/2000/svg\" height=\"24px\"viewBox=\"0 0 24 24\"\n",
              "     width=\"24px\">\n",
              "    <g>\n",
              "        <path d=\"M19 3H5c-1.1 0-2 .9-2 2v14c0 1.1.9 2 2 2h14c1.1 0 2-.9 2-2V5c0-1.1-.9-2-2-2zM9 17H7v-7h2v7zm4 0h-2V7h2v10zm4 0h-2v-4h2v4z\"/>\n",
              "    </g>\n",
              "</svg>\n",
              "  </button>\n",
              "\n",
              "<style>\n",
              "  .colab-df-quickchart {\n",
              "      --bg-color: #E8F0FE;\n",
              "      --fill-color: #1967D2;\n",
              "      --hover-bg-color: #E2EBFA;\n",
              "      --hover-fill-color: #174EA6;\n",
              "      --disabled-fill-color: #AAA;\n",
              "      --disabled-bg-color: #DDD;\n",
              "  }\n",
              "\n",
              "  [theme=dark] .colab-df-quickchart {\n",
              "      --bg-color: #3B4455;\n",
              "      --fill-color: #D2E3FC;\n",
              "      --hover-bg-color: #434B5C;\n",
              "      --hover-fill-color: #FFFFFF;\n",
              "      --disabled-bg-color: #3B4455;\n",
              "      --disabled-fill-color: #666;\n",
              "  }\n",
              "\n",
              "  .colab-df-quickchart {\n",
              "    background-color: var(--bg-color);\n",
              "    border: none;\n",
              "    border-radius: 50%;\n",
              "    cursor: pointer;\n",
              "    display: none;\n",
              "    fill: var(--fill-color);\n",
              "    height: 32px;\n",
              "    padding: 0;\n",
              "    width: 32px;\n",
              "  }\n",
              "\n",
              "  .colab-df-quickchart:hover {\n",
              "    background-color: var(--hover-bg-color);\n",
              "    box-shadow: 0 1px 2px rgba(60, 64, 67, 0.3), 0 1px 3px 1px rgba(60, 64, 67, 0.15);\n",
              "    fill: var(--button-hover-fill-color);\n",
              "  }\n",
              "\n",
              "  .colab-df-quickchart-complete:disabled,\n",
              "  .colab-df-quickchart-complete:disabled:hover {\n",
              "    background-color: var(--disabled-bg-color);\n",
              "    fill: var(--disabled-fill-color);\n",
              "    box-shadow: none;\n",
              "  }\n",
              "\n",
              "  .colab-df-spinner {\n",
              "    border: 2px solid var(--fill-color);\n",
              "    border-color: transparent;\n",
              "    border-bottom-color: var(--fill-color);\n",
              "    animation:\n",
              "      spin 1s steps(1) infinite;\n",
              "  }\n",
              "\n",
              "  @keyframes spin {\n",
              "    0% {\n",
              "      border-color: transparent;\n",
              "      border-bottom-color: var(--fill-color);\n",
              "      border-left-color: var(--fill-color);\n",
              "    }\n",
              "    20% {\n",
              "      border-color: transparent;\n",
              "      border-left-color: var(--fill-color);\n",
              "      border-top-color: var(--fill-color);\n",
              "    }\n",
              "    30% {\n",
              "      border-color: transparent;\n",
              "      border-left-color: var(--fill-color);\n",
              "      border-top-color: var(--fill-color);\n",
              "      border-right-color: var(--fill-color);\n",
              "    }\n",
              "    40% {\n",
              "      border-color: transparent;\n",
              "      border-right-color: var(--fill-color);\n",
              "      border-top-color: var(--fill-color);\n",
              "    }\n",
              "    60% {\n",
              "      border-color: transparent;\n",
              "      border-right-color: var(--fill-color);\n",
              "    }\n",
              "    80% {\n",
              "      border-color: transparent;\n",
              "      border-right-color: var(--fill-color);\n",
              "      border-bottom-color: var(--fill-color);\n",
              "    }\n",
              "    90% {\n",
              "      border-color: transparent;\n",
              "      border-bottom-color: var(--fill-color);\n",
              "    }\n",
              "  }\n",
              "</style>\n",
              "\n",
              "  <script>\n",
              "    async function quickchart(key) {\n",
              "      const quickchartButtonEl =\n",
              "        document.querySelector('#' + key + ' button');\n",
              "      quickchartButtonEl.disabled = true;  // To prevent multiple clicks.\n",
              "      quickchartButtonEl.classList.add('colab-df-spinner');\n",
              "      try {\n",
              "        const charts = await google.colab.kernel.invokeFunction(\n",
              "            'suggestCharts', [key], {});\n",
              "      } catch (error) {\n",
              "        console.error('Error during call to suggestCharts:', error);\n",
              "      }\n",
              "      quickchartButtonEl.classList.remove('colab-df-spinner');\n",
              "      quickchartButtonEl.classList.add('colab-df-quickchart-complete');\n",
              "    }\n",
              "    (() => {\n",
              "      let quickchartButtonEl =\n",
              "        document.querySelector('#df-9c436931-dc7b-4c18-900a-8cdf2184a26a button');\n",
              "      quickchartButtonEl.style.display =\n",
              "        google.colab.kernel.accessAllowed ? 'block' : 'none';\n",
              "    })();\n",
              "  </script>\n",
              "</div>\n",
              "\n",
              "    </div>\n",
              "  </div>\n"
            ],
            "application/vnd.google.colaboratory.intrinsic+json": {
              "type": "dataframe",
              "variable_name": "df"
            }
          },
          "metadata": {},
          "execution_count": 3
        }
      ],
      "source": [
        "path= '/content/flight.csv'\n",
        "df = pd.read_csv(path)\n",
        "df.head()"
      ]
    },
    {
      "cell_type": "markdown",
      "metadata": {
        "id": "YRa3gIKwUT_t"
      },
      "source": [
        "**Data cleaning by Pandas**"
      ]
    },
    {
      "cell_type": "markdown",
      "metadata": {
        "id": "TkgIo6EUvSAx"
      },
      "source": [
        "**Dataset Dimensions and Structure**\n",
        "\n",
        "*   contains 62,988 rows and 23 columns\n"
      ]
    },
    {
      "cell_type": "code",
      "execution_count": null,
      "metadata": {
        "id": "o2f14PWiSJAw",
        "colab": {
          "base_uri": "https://localhost:8080/"
        },
        "outputId": "bb2c1498-5484-46ba-f2c9-c7cded6a63f1"
      },
      "outputs": [
        {
          "output_type": "execute_result",
          "data": {
            "text/plain": [
              "(62988, 23)"
            ]
          },
          "metadata": {},
          "execution_count": 4
        }
      ],
      "source": [
        "df.shape\n"
      ]
    },
    {
      "cell_type": "code",
      "execution_count": null,
      "metadata": {
        "id": "pUDVhkT1T3Ul",
        "colab": {
          "base_uri": "https://localhost:8080/"
        },
        "outputId": "609d4aca-3a1b-4692-c852-34704a25ae7a"
      },
      "outputs": [
        {
          "output_type": "execute_result",
          "data": {
            "text/plain": [
              "Index(['MEMBER_NO', 'FFP_DATE', 'FIRST_FLIGHT_DATE', 'GENDER', 'FFP_TIER',\n",
              "       'WORK_CITY', 'WORK_PROVINCE', 'WORK_COUNTRY', 'AGE', 'LOAD_TIME',\n",
              "       'FLIGHT_COUNT', 'BP_SUM', 'SUM_YR_1', 'SUM_YR_2', 'SEG_KM_SUM',\n",
              "       'LAST_FLIGHT_DATE', 'LAST_TO_END', 'AVG_INTERVAL', 'MAX_INTERVAL',\n",
              "       'EXCHANGE_COUNT', 'avg_discount', 'Points_Sum', 'Point_NotFlight'],\n",
              "      dtype='object')"
            ]
          },
          "metadata": {},
          "execution_count": 5
        }
      ],
      "source": [
        "df.columns"
      ]
    },
    {
      "cell_type": "code",
      "source": [
        "df.info()"
      ],
      "metadata": {
        "colab": {
          "base_uri": "https://localhost:8080/"
        },
        "id": "Tqy8bSW3xKhn",
        "outputId": "ffa66394-27ad-46a3-a940-76265b196e67"
      },
      "execution_count": null,
      "outputs": [
        {
          "output_type": "stream",
          "name": "stdout",
          "text": [
            "<class 'pandas.core.frame.DataFrame'>\n",
            "RangeIndex: 62988 entries, 0 to 62987\n",
            "Data columns (total 23 columns):\n",
            " #   Column             Non-Null Count  Dtype  \n",
            "---  ------             --------------  -----  \n",
            " 0   MEMBER_NO          62988 non-null  int64  \n",
            " 1   FFP_DATE           62988 non-null  object \n",
            " 2   FIRST_FLIGHT_DATE  62988 non-null  object \n",
            " 3   GENDER             62985 non-null  object \n",
            " 4   FFP_TIER           62988 non-null  int64  \n",
            " 5   WORK_CITY          60719 non-null  object \n",
            " 6   WORK_PROVINCE      59740 non-null  object \n",
            " 7   WORK_COUNTRY       62962 non-null  object \n",
            " 8   AGE                62568 non-null  float64\n",
            " 9   LOAD_TIME          62988 non-null  object \n",
            " 10  FLIGHT_COUNT       62988 non-null  int64  \n",
            " 11  BP_SUM             62988 non-null  int64  \n",
            " 12  SUM_YR_1           62437 non-null  float64\n",
            " 13  SUM_YR_2           62850 non-null  float64\n",
            " 14  SEG_KM_SUM         62988 non-null  int64  \n",
            " 15  LAST_FLIGHT_DATE   62988 non-null  object \n",
            " 16  LAST_TO_END        62988 non-null  int64  \n",
            " 17  AVG_INTERVAL       62988 non-null  float64\n",
            " 18  MAX_INTERVAL       62988 non-null  int64  \n",
            " 19  EXCHANGE_COUNT     62988 non-null  int64  \n",
            " 20  avg_discount       62988 non-null  float64\n",
            " 21  Points_Sum         62988 non-null  int64  \n",
            " 22  Point_NotFlight    62988 non-null  int64  \n",
            "dtypes: float64(5), int64(10), object(8)\n",
            "memory usage: 11.1+ MB\n"
          ]
        }
      ]
    },
    {
      "cell_type": "code",
      "source": [
        "df.describe()"
      ],
      "metadata": {
        "colab": {
          "base_uri": "https://localhost:8080/",
          "height": 337
        },
        "id": "LqcXd89Sx_Sp",
        "outputId": "1ee781ed-f3e7-4173-e9c0-8b6f3f186e1d"
      },
      "execution_count": null,
      "outputs": [
        {
          "output_type": "execute_result",
          "data": {
            "text/plain": [
              "          MEMBER_NO                       FFP_DATE           AGE  \\\n",
              "count  58065.000000                          58065  58065.000000   \n",
              "mean   31553.778438  2010-04-06 21:03:21.064324608     41.786016   \n",
              "min        3.000000            2004-11-01 00:00:00     16.000000   \n",
              "25%    15802.000000            2008-05-16 00:00:00     35.000000   \n",
              "50%    31633.000000            2010-11-20 00:00:00     41.000000   \n",
              "75%    47307.000000            2012-04-11 00:00:00     48.000000   \n",
              "max    62988.000000            2013-03-31 00:00:00     67.000000   \n",
              "std    18188.997482                            NaN      9.104802   \n",
              "\n",
              "       FLIGHT_COUNT         BP_SUM       SUM_YR_1       SUM_YR_2  \\\n",
              "count  58065.000000   58065.000000   58065.000000   58065.000000   \n",
              "mean      11.981090   10952.378007    5345.068296    5646.352580   \n",
              "min        2.000000       0.000000       0.000000       0.000000   \n",
              "25%        3.000000    2541.000000    1016.000000     800.000000   \n",
              "50%        7.000000    5730.000000    2837.000000    2813.000000   \n",
              "75%       15.000000   12870.000000    6520.000000    6890.000000   \n",
              "max      213.000000  505308.000000  239560.000000  234188.000000   \n",
              "std       14.201532   16189.667098    8040.852126    8683.543372   \n",
              "\n",
              "          SEG_KM_SUM   LAST_TO_END  AVG_INTERVAL  MAX_INTERVAL  \\\n",
              "count   58065.000000  58065.000000  58065.000000  58065.000000   \n",
              "mean    17189.824783    174.219685     67.398643    165.901145   \n",
              "min       368.000000      1.000000      0.000000      0.000000   \n",
              "25%      4781.000000     29.000000     23.300000     79.000000   \n",
              "50%     10083.000000    106.000000     44.466667    143.000000   \n",
              "75%     21361.000000    264.000000     81.500000    227.000000   \n",
              "max    580717.000000    731.000000    728.000000    728.000000   \n",
              "std     20885.356719    182.904537     77.191595    123.036313   \n",
              "\n",
              "       EXCHANGE_COUNT  avg_discount     Points_Sum  Point_NotFlight  \n",
              "count    58065.000000  58065.000000   58065.000000     58065.000000  \n",
              "mean         0.325032      0.719861   12627.790786         2.827039  \n",
              "min          0.000000      0.000000       0.000000         0.000000  \n",
              "25%          0.000000      0.611384    2804.000000         0.000000  \n",
              "50%          0.000000      0.711155    6390.000000         0.000000  \n",
              "75%          0.000000      0.808222   14404.000000         1.000000  \n",
              "max         46.000000      1.500000  985572.000000       140.000000  \n",
              "std          1.142344      0.183423   20516.013269         7.512926  "
            ],
            "text/html": [
              "\n",
              "  <div id=\"df-fdc22199-8f18-4c68-9c75-29d8d48bc901\" class=\"colab-df-container\">\n",
              "    <div>\n",
              "<style scoped>\n",
              "    .dataframe tbody tr th:only-of-type {\n",
              "        vertical-align: middle;\n",
              "    }\n",
              "\n",
              "    .dataframe tbody tr th {\n",
              "        vertical-align: top;\n",
              "    }\n",
              "\n",
              "    .dataframe thead th {\n",
              "        text-align: right;\n",
              "    }\n",
              "</style>\n",
              "<table border=\"1\" class=\"dataframe\">\n",
              "  <thead>\n",
              "    <tr style=\"text-align: right;\">\n",
              "      <th></th>\n",
              "      <th>MEMBER_NO</th>\n",
              "      <th>FFP_DATE</th>\n",
              "      <th>AGE</th>\n",
              "      <th>FLIGHT_COUNT</th>\n",
              "      <th>BP_SUM</th>\n",
              "      <th>SUM_YR_1</th>\n",
              "      <th>SUM_YR_2</th>\n",
              "      <th>SEG_KM_SUM</th>\n",
              "      <th>LAST_TO_END</th>\n",
              "      <th>AVG_INTERVAL</th>\n",
              "      <th>MAX_INTERVAL</th>\n",
              "      <th>EXCHANGE_COUNT</th>\n",
              "      <th>avg_discount</th>\n",
              "      <th>Points_Sum</th>\n",
              "      <th>Point_NotFlight</th>\n",
              "    </tr>\n",
              "  </thead>\n",
              "  <tbody>\n",
              "    <tr>\n",
              "      <th>count</th>\n",
              "      <td>58065.000000</td>\n",
              "      <td>58065</td>\n",
              "      <td>58065.000000</td>\n",
              "      <td>58065.000000</td>\n",
              "      <td>58065.000000</td>\n",
              "      <td>58065.000000</td>\n",
              "      <td>58065.000000</td>\n",
              "      <td>58065.000000</td>\n",
              "      <td>58065.000000</td>\n",
              "      <td>58065.000000</td>\n",
              "      <td>58065.000000</td>\n",
              "      <td>58065.000000</td>\n",
              "      <td>58065.000000</td>\n",
              "      <td>58065.000000</td>\n",
              "      <td>58065.000000</td>\n",
              "    </tr>\n",
              "    <tr>\n",
              "      <th>mean</th>\n",
              "      <td>31553.778438</td>\n",
              "      <td>2010-04-06 21:03:21.064324608</td>\n",
              "      <td>41.786016</td>\n",
              "      <td>11.981090</td>\n",
              "      <td>10952.378007</td>\n",
              "      <td>5345.068296</td>\n",
              "      <td>5646.352580</td>\n",
              "      <td>17189.824783</td>\n",
              "      <td>174.219685</td>\n",
              "      <td>67.398643</td>\n",
              "      <td>165.901145</td>\n",
              "      <td>0.325032</td>\n",
              "      <td>0.719861</td>\n",
              "      <td>12627.790786</td>\n",
              "      <td>2.827039</td>\n",
              "    </tr>\n",
              "    <tr>\n",
              "      <th>min</th>\n",
              "      <td>3.000000</td>\n",
              "      <td>2004-11-01 00:00:00</td>\n",
              "      <td>16.000000</td>\n",
              "      <td>2.000000</td>\n",
              "      <td>0.000000</td>\n",
              "      <td>0.000000</td>\n",
              "      <td>0.000000</td>\n",
              "      <td>368.000000</td>\n",
              "      <td>1.000000</td>\n",
              "      <td>0.000000</td>\n",
              "      <td>0.000000</td>\n",
              "      <td>0.000000</td>\n",
              "      <td>0.000000</td>\n",
              "      <td>0.000000</td>\n",
              "      <td>0.000000</td>\n",
              "    </tr>\n",
              "    <tr>\n",
              "      <th>25%</th>\n",
              "      <td>15802.000000</td>\n",
              "      <td>2008-05-16 00:00:00</td>\n",
              "      <td>35.000000</td>\n",
              "      <td>3.000000</td>\n",
              "      <td>2541.000000</td>\n",
              "      <td>1016.000000</td>\n",
              "      <td>800.000000</td>\n",
              "      <td>4781.000000</td>\n",
              "      <td>29.000000</td>\n",
              "      <td>23.300000</td>\n",
              "      <td>79.000000</td>\n",
              "      <td>0.000000</td>\n",
              "      <td>0.611384</td>\n",
              "      <td>2804.000000</td>\n",
              "      <td>0.000000</td>\n",
              "    </tr>\n",
              "    <tr>\n",
              "      <th>50%</th>\n",
              "      <td>31633.000000</td>\n",
              "      <td>2010-11-20 00:00:00</td>\n",
              "      <td>41.000000</td>\n",
              "      <td>7.000000</td>\n",
              "      <td>5730.000000</td>\n",
              "      <td>2837.000000</td>\n",
              "      <td>2813.000000</td>\n",
              "      <td>10083.000000</td>\n",
              "      <td>106.000000</td>\n",
              "      <td>44.466667</td>\n",
              "      <td>143.000000</td>\n",
              "      <td>0.000000</td>\n",
              "      <td>0.711155</td>\n",
              "      <td>6390.000000</td>\n",
              "      <td>0.000000</td>\n",
              "    </tr>\n",
              "    <tr>\n",
              "      <th>75%</th>\n",
              "      <td>47307.000000</td>\n",
              "      <td>2012-04-11 00:00:00</td>\n",
              "      <td>48.000000</td>\n",
              "      <td>15.000000</td>\n",
              "      <td>12870.000000</td>\n",
              "      <td>6520.000000</td>\n",
              "      <td>6890.000000</td>\n",
              "      <td>21361.000000</td>\n",
              "      <td>264.000000</td>\n",
              "      <td>81.500000</td>\n",
              "      <td>227.000000</td>\n",
              "      <td>0.000000</td>\n",
              "      <td>0.808222</td>\n",
              "      <td>14404.000000</td>\n",
              "      <td>1.000000</td>\n",
              "    </tr>\n",
              "    <tr>\n",
              "      <th>max</th>\n",
              "      <td>62988.000000</td>\n",
              "      <td>2013-03-31 00:00:00</td>\n",
              "      <td>67.000000</td>\n",
              "      <td>213.000000</td>\n",
              "      <td>505308.000000</td>\n",
              "      <td>239560.000000</td>\n",
              "      <td>234188.000000</td>\n",
              "      <td>580717.000000</td>\n",
              "      <td>731.000000</td>\n",
              "      <td>728.000000</td>\n",
              "      <td>728.000000</td>\n",
              "      <td>46.000000</td>\n",
              "      <td>1.500000</td>\n",
              "      <td>985572.000000</td>\n",
              "      <td>140.000000</td>\n",
              "    </tr>\n",
              "    <tr>\n",
              "      <th>std</th>\n",
              "      <td>18188.997482</td>\n",
              "      <td>NaN</td>\n",
              "      <td>9.104802</td>\n",
              "      <td>14.201532</td>\n",
              "      <td>16189.667098</td>\n",
              "      <td>8040.852126</td>\n",
              "      <td>8683.543372</td>\n",
              "      <td>20885.356719</td>\n",
              "      <td>182.904537</td>\n",
              "      <td>77.191595</td>\n",
              "      <td>123.036313</td>\n",
              "      <td>1.142344</td>\n",
              "      <td>0.183423</td>\n",
              "      <td>20516.013269</td>\n",
              "      <td>7.512926</td>\n",
              "    </tr>\n",
              "  </tbody>\n",
              "</table>\n",
              "</div>\n",
              "    <div class=\"colab-df-buttons\">\n",
              "\n",
              "  <div class=\"colab-df-container\">\n",
              "    <button class=\"colab-df-convert\" onclick=\"convertToInteractive('df-fdc22199-8f18-4c68-9c75-29d8d48bc901')\"\n",
              "            title=\"Convert this dataframe to an interactive table.\"\n",
              "            style=\"display:none;\">\n",
              "\n",
              "  <svg xmlns=\"http://www.w3.org/2000/svg\" height=\"24px\" viewBox=\"0 -960 960 960\">\n",
              "    <path d=\"M120-120v-720h720v720H120Zm60-500h600v-160H180v160Zm220 220h160v-160H400v160Zm0 220h160v-160H400v160ZM180-400h160v-160H180v160Zm440 0h160v-160H620v160ZM180-180h160v-160H180v160Zm440 0h160v-160H620v160Z\"/>\n",
              "  </svg>\n",
              "    </button>\n",
              "\n",
              "  <style>\n",
              "    .colab-df-container {\n",
              "      display:flex;\n",
              "      gap: 12px;\n",
              "    }\n",
              "\n",
              "    .colab-df-convert {\n",
              "      background-color: #E8F0FE;\n",
              "      border: none;\n",
              "      border-radius: 50%;\n",
              "      cursor: pointer;\n",
              "      display: none;\n",
              "      fill: #1967D2;\n",
              "      height: 32px;\n",
              "      padding: 0 0 0 0;\n",
              "      width: 32px;\n",
              "    }\n",
              "\n",
              "    .colab-df-convert:hover {\n",
              "      background-color: #E2EBFA;\n",
              "      box-shadow: 0px 1px 2px rgba(60, 64, 67, 0.3), 0px 1px 3px 1px rgba(60, 64, 67, 0.15);\n",
              "      fill: #174EA6;\n",
              "    }\n",
              "\n",
              "    .colab-df-buttons div {\n",
              "      margin-bottom: 4px;\n",
              "    }\n",
              "\n",
              "    [theme=dark] .colab-df-convert {\n",
              "      background-color: #3B4455;\n",
              "      fill: #D2E3FC;\n",
              "    }\n",
              "\n",
              "    [theme=dark] .colab-df-convert:hover {\n",
              "      background-color: #434B5C;\n",
              "      box-shadow: 0px 1px 3px 1px rgba(0, 0, 0, 0.15);\n",
              "      filter: drop-shadow(0px 1px 2px rgba(0, 0, 0, 0.3));\n",
              "      fill: #FFFFFF;\n",
              "    }\n",
              "  </style>\n",
              "\n",
              "    <script>\n",
              "      const buttonEl =\n",
              "        document.querySelector('#df-fdc22199-8f18-4c68-9c75-29d8d48bc901 button.colab-df-convert');\n",
              "      buttonEl.style.display =\n",
              "        google.colab.kernel.accessAllowed ? 'block' : 'none';\n",
              "\n",
              "      async function convertToInteractive(key) {\n",
              "        const element = document.querySelector('#df-fdc22199-8f18-4c68-9c75-29d8d48bc901');\n",
              "        const dataTable =\n",
              "          await google.colab.kernel.invokeFunction('convertToInteractive',\n",
              "                                                    [key], {});\n",
              "        if (!dataTable) return;\n",
              "\n",
              "        const docLinkHtml = 'Like what you see? Visit the ' +\n",
              "          '<a target=\"_blank\" href=https://colab.research.google.com/notebooks/data_table.ipynb>data table notebook</a>'\n",
              "          + ' to learn more about interactive tables.';\n",
              "        element.innerHTML = '';\n",
              "        dataTable['output_type'] = 'display_data';\n",
              "        await google.colab.output.renderOutput(dataTable, element);\n",
              "        const docLink = document.createElement('div');\n",
              "        docLink.innerHTML = docLinkHtml;\n",
              "        element.appendChild(docLink);\n",
              "      }\n",
              "    </script>\n",
              "  </div>\n",
              "\n",
              "\n",
              "<div id=\"df-e0f4afa4-910a-42d0-8b5a-d517143d448e\">\n",
              "  <button class=\"colab-df-quickchart\" onclick=\"quickchart('df-e0f4afa4-910a-42d0-8b5a-d517143d448e')\"\n",
              "            title=\"Suggest charts\"\n",
              "            style=\"display:none;\">\n",
              "\n",
              "<svg xmlns=\"http://www.w3.org/2000/svg\" height=\"24px\"viewBox=\"0 0 24 24\"\n",
              "     width=\"24px\">\n",
              "    <g>\n",
              "        <path d=\"M19 3H5c-1.1 0-2 .9-2 2v14c0 1.1.9 2 2 2h14c1.1 0 2-.9 2-2V5c0-1.1-.9-2-2-2zM9 17H7v-7h2v7zm4 0h-2V7h2v10zm4 0h-2v-4h2v4z\"/>\n",
              "    </g>\n",
              "</svg>\n",
              "  </button>\n",
              "\n",
              "<style>\n",
              "  .colab-df-quickchart {\n",
              "      --bg-color: #E8F0FE;\n",
              "      --fill-color: #1967D2;\n",
              "      --hover-bg-color: #E2EBFA;\n",
              "      --hover-fill-color: #174EA6;\n",
              "      --disabled-fill-color: #AAA;\n",
              "      --disabled-bg-color: #DDD;\n",
              "  }\n",
              "\n",
              "  [theme=dark] .colab-df-quickchart {\n",
              "      --bg-color: #3B4455;\n",
              "      --fill-color: #D2E3FC;\n",
              "      --hover-bg-color: #434B5C;\n",
              "      --hover-fill-color: #FFFFFF;\n",
              "      --disabled-bg-color: #3B4455;\n",
              "      --disabled-fill-color: #666;\n",
              "  }\n",
              "\n",
              "  .colab-df-quickchart {\n",
              "    background-color: var(--bg-color);\n",
              "    border: none;\n",
              "    border-radius: 50%;\n",
              "    cursor: pointer;\n",
              "    display: none;\n",
              "    fill: var(--fill-color);\n",
              "    height: 32px;\n",
              "    padding: 0;\n",
              "    width: 32px;\n",
              "  }\n",
              "\n",
              "  .colab-df-quickchart:hover {\n",
              "    background-color: var(--hover-bg-color);\n",
              "    box-shadow: 0 1px 2px rgba(60, 64, 67, 0.3), 0 1px 3px 1px rgba(60, 64, 67, 0.15);\n",
              "    fill: var(--button-hover-fill-color);\n",
              "  }\n",
              "\n",
              "  .colab-df-quickchart-complete:disabled,\n",
              "  .colab-df-quickchart-complete:disabled:hover {\n",
              "    background-color: var(--disabled-bg-color);\n",
              "    fill: var(--disabled-fill-color);\n",
              "    box-shadow: none;\n",
              "  }\n",
              "\n",
              "  .colab-df-spinner {\n",
              "    border: 2px solid var(--fill-color);\n",
              "    border-color: transparent;\n",
              "    border-bottom-color: var(--fill-color);\n",
              "    animation:\n",
              "      spin 1s steps(1) infinite;\n",
              "  }\n",
              "\n",
              "  @keyframes spin {\n",
              "    0% {\n",
              "      border-color: transparent;\n",
              "      border-bottom-color: var(--fill-color);\n",
              "      border-left-color: var(--fill-color);\n",
              "    }\n",
              "    20% {\n",
              "      border-color: transparent;\n",
              "      border-left-color: var(--fill-color);\n",
              "      border-top-color: var(--fill-color);\n",
              "    }\n",
              "    30% {\n",
              "      border-color: transparent;\n",
              "      border-left-color: var(--fill-color);\n",
              "      border-top-color: var(--fill-color);\n",
              "      border-right-color: var(--fill-color);\n",
              "    }\n",
              "    40% {\n",
              "      border-color: transparent;\n",
              "      border-right-color: var(--fill-color);\n",
              "      border-top-color: var(--fill-color);\n",
              "    }\n",
              "    60% {\n",
              "      border-color: transparent;\n",
              "      border-right-color: var(--fill-color);\n",
              "    }\n",
              "    80% {\n",
              "      border-color: transparent;\n",
              "      border-right-color: var(--fill-color);\n",
              "      border-bottom-color: var(--fill-color);\n",
              "    }\n",
              "    90% {\n",
              "      border-color: transparent;\n",
              "      border-bottom-color: var(--fill-color);\n",
              "    }\n",
              "  }\n",
              "</style>\n",
              "\n",
              "  <script>\n",
              "    async function quickchart(key) {\n",
              "      const quickchartButtonEl =\n",
              "        document.querySelector('#' + key + ' button');\n",
              "      quickchartButtonEl.disabled = true;  // To prevent multiple clicks.\n",
              "      quickchartButtonEl.classList.add('colab-df-spinner');\n",
              "      try {\n",
              "        const charts = await google.colab.kernel.invokeFunction(\n",
              "            'suggestCharts', [key], {});\n",
              "      } catch (error) {\n",
              "        console.error('Error during call to suggestCharts:', error);\n",
              "      }\n",
              "      quickchartButtonEl.classList.remove('colab-df-spinner');\n",
              "      quickchartButtonEl.classList.add('colab-df-quickchart-complete');\n",
              "    }\n",
              "    (() => {\n",
              "      let quickchartButtonEl =\n",
              "        document.querySelector('#df-e0f4afa4-910a-42d0-8b5a-d517143d448e button');\n",
              "      quickchartButtonEl.style.display =\n",
              "        google.colab.kernel.accessAllowed ? 'block' : 'none';\n",
              "    })();\n",
              "  </script>\n",
              "</div>\n",
              "\n",
              "    </div>\n",
              "  </div>\n"
            ],
            "application/vnd.google.colaboratory.intrinsic+json": {
              "type": "dataframe",
              "summary": "{\n  \"name\": \"df\",\n  \"rows\": 8,\n  \"fields\": [\n    {\n      \"column\": \"MEMBER_NO\",\n      \"properties\": {\n        \"dtype\": \"number\",\n        \"std\": 21843.034599410945,\n        \"min\": 3.0,\n        \"max\": 62988.0,\n        \"num_unique_values\": 8,\n        \"samples\": [\n          31553.778437957462,\n          47307.0,\n          58065.0\n        ],\n        \"semantic_type\": \"\",\n        \"description\": \"\"\n      }\n    },\n    {\n      \"column\": \"FFP_DATE\",\n      \"properties\": {\n        \"dtype\": \"date\",\n        \"min\": \"1970-01-01 00:00:00.000058065\",\n        \"max\": \"2013-03-31 00:00:00\",\n        \"num_unique_values\": 7,\n        \"samples\": [\n          \"58065\",\n          \"2010-04-06 21:03:21.064324608\",\n          \"2012-04-11 00:00:00\"\n        ],\n        \"semantic_type\": \"\",\n        \"description\": \"\"\n      }\n    },\n    {\n      \"column\": \"AGE\",\n      \"properties\": {\n        \"dtype\": \"number\",\n        \"std\": 20516.060119524598,\n        \"min\": 9.10480245515598,\n        \"max\": 58065.0,\n        \"num_unique_values\": 8,\n        \"samples\": [\n          41.78601567209162,\n          48.0,\n          58065.0\n        ],\n        \"semantic_type\": \"\",\n        \"description\": \"\"\n      }\n    },\n    {\n      \"column\": \"FLIGHT_COUNT\",\n      \"properties\": {\n        \"dtype\": \"number\",\n        \"std\": 20515.758291646922,\n        \"min\": 2.0,\n        \"max\": 58065.0,\n        \"num_unique_values\": 8,\n        \"samples\": [\n          11.98109015758202,\n          15.0,\n          58065.0\n        ],\n        \"semantic_type\": \"\",\n        \"description\": \"\"\n      }\n    },\n    {\n      \"column\": \"BP_SUM\",\n      \"properties\": {\n        \"dtype\": \"number\",\n        \"std\": 174245.03099516628,\n        \"min\": 0.0,\n        \"max\": 505308.0,\n        \"num_unique_values\": 8,\n        \"samples\": [\n          10952.378007405494,\n          12870.0,\n          58065.0\n        ],\n        \"semantic_type\": \"\",\n        \"description\": \"\"\n      }\n    },\n    {\n      \"column\": \"SUM_YR_1\",\n      \"properties\": {\n        \"dtype\": \"number\",\n        \"std\": 82803.03744412288,\n        \"min\": 0.0,\n        \"max\": 239560.0,\n        \"num_unique_values\": 8,\n        \"samples\": [\n          5345.068295565134,\n          6520.0,\n          58065.0\n        ],\n        \"semantic_type\": \"\",\n        \"description\": \"\"\n      }\n    },\n    {\n      \"column\": \"SUM_YR_2\",\n      \"properties\": {\n        \"dtype\": \"number\",\n        \"std\": 80897.59018527532,\n        \"min\": 0.0,\n        \"max\": 234188.0,\n        \"num_unique_values\": 8,\n        \"samples\": [\n          5646.352579704141,\n          6890.0,\n          58065.0\n        ],\n        \"semantic_type\": \"\",\n        \"description\": \"\"\n      }\n    },\n    {\n      \"column\": \"SEG_KM_SUM\",\n      \"properties\": {\n        \"dtype\": \"number\",\n        \"std\": 199388.35899703193,\n        \"min\": 368.0,\n        \"max\": 580717.0,\n        \"num_unique_values\": 8,\n        \"samples\": [\n          17189.824782571257,\n          21361.0,\n          58065.0\n        ],\n        \"semantic_type\": \"\",\n        \"description\": \"\"\n      }\n    },\n    {\n      \"column\": \"LAST_TO_END\",\n      \"properties\": {\n        \"dtype\": \"number\",\n        \"std\": 20455.185654046647,\n        \"min\": 1.0,\n        \"max\": 58065.0,\n        \"num_unique_values\": 8,\n        \"samples\": [\n          174.2196848359597,\n          264.0,\n          58065.0\n        ],\n        \"semantic_type\": \"\",\n        \"description\": \"\"\n      }\n    },\n    {\n      \"column\": \"AVG_INTERVAL\",\n      \"properties\": {\n        \"dtype\": \"number\",\n        \"std\": 20478.862936426678,\n        \"min\": 0.0,\n        \"max\": 58065.0,\n        \"num_unique_values\": 8,\n        \"samples\": [\n          67.39864293908897,\n          81.5,\n          58065.0\n        ],\n        \"semantic_type\": \"\",\n        \"description\": \"\"\n      }\n    },\n    {\n      \"column\": \"MAX_INTERVAL\",\n      \"properties\": {\n        \"dtype\": \"number\",\n        \"std\": 20456.237347055277,\n        \"min\": 0.0,\n        \"max\": 58065.0,\n        \"num_unique_values\": 8,\n        \"samples\": [\n          165.90114526823388,\n          227.0,\n          58065.0\n        ],\n        \"semantic_type\": \"\",\n        \"description\": \"\"\n      }\n    },\n    {\n      \"column\": \"EXCHANGE_COUNT\",\n      \"properties\": {\n        \"dtype\": \"number\",\n        \"std\": 20526.686408304155,\n        \"min\": 0.0,\n        \"max\": 58065.0,\n        \"num_unique_values\": 5,\n        \"samples\": [\n          0.32503229139757167,\n          1.142344448859056,\n          0.0\n        ],\n        \"semantic_type\": \"\",\n        \"description\": \"\"\n      }\n    },\n    {\n      \"column\": \"avg_discount\",\n      \"properties\": {\n        \"dtype\": \"number\",\n        \"std\": 20528.848625819413,\n        \"min\": 0.0,\n        \"max\": 58065.0,\n        \"num_unique_values\": 8,\n        \"samples\": [\n          0.7198612389889435,\n          0.8082216879999999,\n          58065.0\n        ],\n        \"semantic_type\": \"\",\n        \"description\": \"\"\n      }\n    },\n    {\n      \"column\": \"Points_Sum\",\n      \"properties\": {\n        \"dtype\": \"number\",\n        \"std\": 343138.05218265817,\n        \"min\": 0.0,\n        \"max\": 985572.0,\n        \"num_unique_values\": 8,\n        \"samples\": [\n          12627.790786187892,\n          14404.0,\n          58065.0\n        ],\n        \"semantic_type\": \"\",\n        \"description\": \"\"\n      }\n    },\n    {\n      \"column\": \"Point_NotFlight\",\n      \"properties\": {\n        \"dtype\": \"number\",\n        \"std\": 20521.490862620776,\n        \"min\": 0.0,\n        \"max\": 58065.0,\n        \"num_unique_values\": 6,\n        \"samples\": [\n          58065.0,\n          2.8270386635666926,\n          7.512926250925167\n        ],\n        \"semantic_type\": \"\",\n        \"description\": \"\"\n      }\n    }\n  ]\n}"
            }
          },
          "metadata": {},
          "execution_count": 37
        }
      ]
    },
    {
      "cell_type": "code",
      "execution_count": null,
      "metadata": {
        "id": "megh_pbeU5qa",
        "colab": {
          "base_uri": "https://localhost:8080/"
        },
        "outputId": "94fcce0c-b4ff-4230-ebd4-e54f4414beaf"
      },
      "outputs": [
        {
          "output_type": "execute_result",
          "data": {
            "text/plain": [
              "23"
            ]
          },
          "metadata": {},
          "execution_count": 7
        }
      ],
      "source": [
        "len(df.columns)"
      ]
    },
    {
      "cell_type": "markdown",
      "metadata": {
        "id": "E5CNT0uOtTU8"
      },
      "source": [
        "**Dropping Columns**\n",
        "\n",
        "*MEMBER_NO : column is an identifier and does not add meaningful value for analysis.\n",
        "\n",
        "*LOAD_TIME: If it only indicates the observation window end date and doesn’t contribute to analysis\n"
      ]
    },
    {
      "cell_type": "code",
      "source": [
        "df=ps.handle_nulls(df, columns='MEMBER_NO', action='remove', inplace=False)\n"
      ],
      "metadata": {
        "id": "S38pS129nyLo"
      },
      "execution_count": null,
      "outputs": []
    },
    {
      "cell_type": "code",
      "source": [
        "df =ps. detect_outliers(df, method='iqr', threshold=1.5,columns='AGE'  )"
      ],
      "metadata": {
        "colab": {
          "base_uri": "https://localhost:8080/"
        },
        "id": "I15UqCWanzeJ",
        "outputId": "a51d4161-2bde-48be-db01-6f67240fc0ef"
      },
      "execution_count": null,
      "outputs": [
        {
          "output_type": "stream",
          "name": "stdout",
          "text": [
            "Total number of outliers detected across columns: 998\n",
            "Original data shape: (62988, 23)\n",
            "Data shape after removing outliers: (61570, 23)\n"
          ]
        }
      ]
    },
    {
      "cell_type": "markdown",
      "metadata": {
        "id": "pJxubfWjyGNa"
      },
      "source": [
        "**Checking nulls**\n",
        "\n",
        "The dataset contains several columns with missing values\n",
        "\n"
      ]
    },
    {
      "cell_type": "code",
      "execution_count": null,
      "metadata": {
        "collapsed": true,
        "id": "_M-Wk8aqVQ4V",
        "colab": {
          "base_uri": "https://localhost:8080/",
          "height": 805
        },
        "outputId": "34d0a9a4-3027-4e3c-df18-db1908c9e150"
      },
      "outputs": [
        {
          "output_type": "execute_result",
          "data": {
            "text/plain": [
              "MEMBER_NO               0\n",
              "FFP_DATE                0\n",
              "FIRST_FLIGHT_DATE       0\n",
              "GENDER                  3\n",
              "FFP_TIER                0\n",
              "WORK_CITY            2112\n",
              "WORK_PROVINCE        3017\n",
              "WORK_COUNTRY           25\n",
              "AGE                     0\n",
              "LOAD_TIME               0\n",
              "FLIGHT_COUNT            0\n",
              "BP_SUM                  0\n",
              "SUM_YR_1              543\n",
              "SUM_YR_2              135\n",
              "SEG_KM_SUM              0\n",
              "LAST_FLIGHT_DATE        0\n",
              "LAST_TO_END             0\n",
              "AVG_INTERVAL            0\n",
              "MAX_INTERVAL            0\n",
              "EXCHANGE_COUNT          0\n",
              "avg_discount            0\n",
              "Points_Sum              0\n",
              "Point_NotFlight         0\n",
              "dtype: int64"
            ],
            "text/html": [
              "<div>\n",
              "<style scoped>\n",
              "    .dataframe tbody tr th:only-of-type {\n",
              "        vertical-align: middle;\n",
              "    }\n",
              "\n",
              "    .dataframe tbody tr th {\n",
              "        vertical-align: top;\n",
              "    }\n",
              "\n",
              "    .dataframe thead th {\n",
              "        text-align: right;\n",
              "    }\n",
              "</style>\n",
              "<table border=\"1\" class=\"dataframe\">\n",
              "  <thead>\n",
              "    <tr style=\"text-align: right;\">\n",
              "      <th></th>\n",
              "      <th>0</th>\n",
              "    </tr>\n",
              "  </thead>\n",
              "  <tbody>\n",
              "    <tr>\n",
              "      <th>MEMBER_NO</th>\n",
              "      <td>0</td>\n",
              "    </tr>\n",
              "    <tr>\n",
              "      <th>FFP_DATE</th>\n",
              "      <td>0</td>\n",
              "    </tr>\n",
              "    <tr>\n",
              "      <th>FIRST_FLIGHT_DATE</th>\n",
              "      <td>0</td>\n",
              "    </tr>\n",
              "    <tr>\n",
              "      <th>GENDER</th>\n",
              "      <td>3</td>\n",
              "    </tr>\n",
              "    <tr>\n",
              "      <th>FFP_TIER</th>\n",
              "      <td>0</td>\n",
              "    </tr>\n",
              "    <tr>\n",
              "      <th>WORK_CITY</th>\n",
              "      <td>2112</td>\n",
              "    </tr>\n",
              "    <tr>\n",
              "      <th>WORK_PROVINCE</th>\n",
              "      <td>3017</td>\n",
              "    </tr>\n",
              "    <tr>\n",
              "      <th>WORK_COUNTRY</th>\n",
              "      <td>25</td>\n",
              "    </tr>\n",
              "    <tr>\n",
              "      <th>AGE</th>\n",
              "      <td>0</td>\n",
              "    </tr>\n",
              "    <tr>\n",
              "      <th>LOAD_TIME</th>\n",
              "      <td>0</td>\n",
              "    </tr>\n",
              "    <tr>\n",
              "      <th>FLIGHT_COUNT</th>\n",
              "      <td>0</td>\n",
              "    </tr>\n",
              "    <tr>\n",
              "      <th>BP_SUM</th>\n",
              "      <td>0</td>\n",
              "    </tr>\n",
              "    <tr>\n",
              "      <th>SUM_YR_1</th>\n",
              "      <td>543</td>\n",
              "    </tr>\n",
              "    <tr>\n",
              "      <th>SUM_YR_2</th>\n",
              "      <td>135</td>\n",
              "    </tr>\n",
              "    <tr>\n",
              "      <th>SEG_KM_SUM</th>\n",
              "      <td>0</td>\n",
              "    </tr>\n",
              "    <tr>\n",
              "      <th>LAST_FLIGHT_DATE</th>\n",
              "      <td>0</td>\n",
              "    </tr>\n",
              "    <tr>\n",
              "      <th>LAST_TO_END</th>\n",
              "      <td>0</td>\n",
              "    </tr>\n",
              "    <tr>\n",
              "      <th>AVG_INTERVAL</th>\n",
              "      <td>0</td>\n",
              "    </tr>\n",
              "    <tr>\n",
              "      <th>MAX_INTERVAL</th>\n",
              "      <td>0</td>\n",
              "    </tr>\n",
              "    <tr>\n",
              "      <th>EXCHANGE_COUNT</th>\n",
              "      <td>0</td>\n",
              "    </tr>\n",
              "    <tr>\n",
              "      <th>avg_discount</th>\n",
              "      <td>0</td>\n",
              "    </tr>\n",
              "    <tr>\n",
              "      <th>Points_Sum</th>\n",
              "      <td>0</td>\n",
              "    </tr>\n",
              "    <tr>\n",
              "      <th>Point_NotFlight</th>\n",
              "      <td>0</td>\n",
              "    </tr>\n",
              "  </tbody>\n",
              "</table>\n",
              "</div><br><label><b>dtype:</b> int64</label>"
            ]
          },
          "metadata": {},
          "execution_count": 10
        }
      ],
      "source": [
        "pd.set_option(\"display.max_row\",None)\n",
        "df.isnull().sum()"
      ]
    },
    {
      "cell_type": "code",
      "execution_count": null,
      "metadata": {
        "id": "8FdMQPlmYaxw",
        "colab": {
          "base_uri": "https://localhost:8080/"
        },
        "outputId": "2263c25b-6a5b-4f71-9f50-29b050b242ee"
      },
      "outputs": [
        {
          "output_type": "execute_result",
          "data": {
            "text/plain": [
              "5835"
            ]
          },
          "metadata": {},
          "execution_count": 11
        }
      ],
      "source": [
        "#Total numbers of nulls in dataset\n",
        "df.isnull().sum().sum()"
      ]
    },
    {
      "cell_type": "code",
      "execution_count": null,
      "metadata": {
        "id": "46FHTv2rwnOK",
        "colab": {
          "base_uri": "https://localhost:8080/"
        },
        "outputId": "6b397657-0a3b-4d96-b034-40a20476faf3"
      },
      "outputs": [
        {
          "output_type": "execute_result",
          "data": {
            "text/plain": [
              "10.565504540547407"
            ]
          },
          "metadata": {},
          "execution_count": 12
        }
      ],
      "source": [
        "#percentage of null values\n",
        "6655/62988*100"
      ]
    },
    {
      "cell_type": "markdown",
      "metadata": {
        "id": "s_CMiAPQykQp"
      },
      "source": [
        "**Work Country Distribution**\n",
        "\n",
        "*   CN: 92% (the majority of entries)\n",
        "\n",
        "*   Other countries: 8% (combined)\n"
      ]
    },
    {
      "cell_type": "code",
      "execution_count": null,
      "metadata": {
        "colab": {
          "base_uri": "https://localhost:8080/"
        },
        "collapsed": true,
        "id": "eboxXPqizHOI",
        "outputId": "9cea0e93-4eec-4e65-971e-9db90d866a23"
      },
      "outputs": [
        {
          "output_type": "execute_result",
          "data": {
            "text/plain": [
              "array(['CN', 'US', 'FR', 'JP', 'HK', 'MY', 'AU', 'NL', 'MX', 'CA', 'KR',\n",
              "       'PK', 'TH', 'SG', 'BR', 'PE', 'AE', 'HN', 'PH', 'ID', 'MO', 'GN',\n",
              "       'FL', 'KH', nan, 'TW', 'VN', 'DE', 'IL', 'CH', 'PA', 'VT', 'EC',\n",
              "       'NG', 'BI', 'GT', 'BE', 'GL', 'NZ', 'FA', 'NI', 'KO', 'AN', 'CC',\n",
              "       'UV', 'MN', 'UK', 'AS', 'IT', 'OM', 'SE', 'BZ', 'IN', 'KZ', 'PT',\n",
              "       'NO', 'MS', 'FI', 'UZ', 'NE', 'AT', 'AA', 'HU', 'CY', 'EG', 'MA',\n",
              "       '中', 'ES', 'MZ', 'IR', 'RE', 'PS', 'KE', 'SN', 'BB', 'AZ', 'UA',\n",
              "       'LB', 'YE', 'GE', 'SI', 'KA', 'MV', 'RO', 'ZA', 'DK', 'AB', 'CD',\n",
              "       'UY', 'CM', 'TK', 'AR', 'BN', 'PN', 'BD', '北', 'SU', 'RU', '沈',\n",
              "       'GB', 'ZW', 'PP', '芬', 'FO', 'IE', 'PR', 'BS', 'GH', 'SK', 'IA',\n",
              "       'cn', 'TR', 'LA', 'BG', 'CL', 'CR', 'SA'], dtype=object)"
            ]
          },
          "metadata": {},
          "execution_count": 13
        }
      ],
      "source": [
        "df[\"WORK_COUNTRY\"].unique()"
      ]
    },
    {
      "cell_type": "markdown",
      "metadata": {
        "id": "4AuxdXRO5uAo"
      },
      "source": [
        "** Data cleaning steps by Pyspan**"
      ]
    },
    {
      "cell_type": "markdown",
      "metadata": {
        "id": "4jzbR2Ddd-RO"
      },
      "source": [
        "**Handling Columns with High Missing Values**\n",
        "\n",
        "\n",
        "In our dataset, several columns contain a significant percentage of missing values. Handling these missing values is crucial for ensuring the quality of our analysis. Columns with a high percentage of missing data that cannot be meaningfully imputed may need to be dropped.\n",
        "\n",
        "**Columns with High Missing Values**\n",
        "* WORK_CITY has Missing Values: 2,269\n",
        "* WORK_PROVINCE has Missing Values: 3,248\n",
        "  \n",
        "**Decision to Drop Columns**\n",
        "Both columns have a noticeable amount of missing data. we recommend dropping these columns from the dataset to maintain the integrity and accuracy of our analysis.\n"
      ]
    },
    {
      "cell_type": "code",
      "execution_count": null,
      "metadata": {
        "id": "Cx6vuO6Y3-a5"
      },
      "outputs": [],
      "source": [
        "# Removing nulls by removing nulls from  column  WORK_CITY\n",
        "df=ps. handle_nulls(df, columns='WORK_CITY', action='remove', inplace=False)\n"
      ]
    },
    {
      "cell_type": "code",
      "execution_count": null,
      "metadata": {
        "id": "QKcsIXA88WXK"
      },
      "outputs": [],
      "source": [
        "#Removing nulls by removing nulls from column  WORK_PROVINCE\n",
        "df=ps. handle_nulls(df, columns='WORK_PROVINCE', action='remove', inplace=False)"
      ]
    },
    {
      "cell_type": "markdown",
      "metadata": {
        "id": "Yn4Y3__dHktd"
      },
      "source": [
        "**Null Values in the Gender Column**\n",
        "\n",
        "* Total Entries: 63,000\n",
        "* Missing Values: 3\n",
        "* We can fill these missing entries in the  with the mode of the column.\n",
        "   "
      ]
    },
    {
      "cell_type": "code",
      "execution_count": null,
      "metadata": {
        "id": "hTLdXmAKGl4g"
      },
      "outputs": [],
      "source": [
        "df=ps. handle_nulls(df, columns='GENDER', action='impute', by='mode', inplace=False)"
      ]
    },
    {
      "cell_type": "markdown",
      "metadata": {
        "id": "E7SIwppGcmPf"
      },
      "source": [
        "**Handling nulls in the Age Column**\n",
        "* 323 missing values\n",
        "\n",
        "* fill it with median of column\n",
        "\n",
        "\n",
        "\n",
        "\n",
        "---\n",
        "\n",
        "\n"
      ]
    },
    {
      "cell_type": "code",
      "execution_count": null,
      "metadata": {
        "id": "ZQQefX6sVjyX"
      },
      "outputs": [],
      "source": [
        "df=ps. handle_nulls(df, columns='AGE', action='impute', by='median', inplace=False)"
      ]
    },
    {
      "cell_type": "markdown",
      "metadata": {
        "id": "Ea2REsyyrXIg"
      },
      "source": [
        "Handling nulls Values in SUM_YR_1 and SUM_YR_2\n",
        "\n",
        "*   528 for SUM_YR_1\n",
        "*   134 for SUM_YR_2`\n",
        "*   To fill find the mean of the column\n",
        "\n",
        "\n"
      ]
    },
    {
      "cell_type": "code",
      "execution_count": null,
      "metadata": {
        "id": "U6ychcg1prdp"
      },
      "outputs": [],
      "source": [
        "df = ps. handle_nulls(df, columns='SUM_YR_1', action='impute', by='mean', inplace=False)\n"
      ]
    },
    {
      "cell_type": "code",
      "execution_count": null,
      "metadata": {
        "id": "u58cIKOMEKY7"
      },
      "outputs": [],
      "source": [
        "df = ps. handle_nulls(df, columns='SUM_YR_2', action='impute', by='mean', inplace=False)\n"
      ]
    },
    {
      "cell_type": "markdown",
      "metadata": {
        "id": "h2jWD6R2E0QU"
      },
      "source": [
        "Handling null Value in WORK_COUNTRY\n",
        "\n",
        "*   It has 1 missing value\n",
        "*   To fill we use mode of country."
      ]
    },
    {
      "cell_type": "code",
      "execution_count": null,
      "metadata": {
        "id": "-omiSWMTGnP7"
      },
      "outputs": [],
      "source": [
        "df =ps. handle_nulls(df, columns='WORK_COUNTRY', action='replace', with_val='CN')"
      ]
    },
    {
      "cell_type": "markdown",
      "metadata": {
        "id": "H6fRWOp_uvuD"
      },
      "source": [
        "**DETECT OUTLIERS**\n",
        "\n",
        "\n"
      ]
    },
    {
      "cell_type": "code",
      "execution_count": null,
      "metadata": {
        "collapsed": true,
        "id": "MOw5T77Ousts",
        "colab": {
          "base_uri": "https://localhost:8080/",
          "height": 241
        },
        "outputId": "b331f031-7a4a-4d92-e8a9-990379c335b3"
      },
      "outputs": [
        {
          "output_type": "execute_result",
          "data": {
            "text/plain": [
              "0    31.0\n",
              "2    40.0\n",
              "3    64.0\n",
              "4    48.0\n",
              "5    64.0\n",
              "Name: AGE, dtype: float64"
            ],
            "text/html": [
              "<div>\n",
              "<style scoped>\n",
              "    .dataframe tbody tr th:only-of-type {\n",
              "        vertical-align: middle;\n",
              "    }\n",
              "\n",
              "    .dataframe tbody tr th {\n",
              "        vertical-align: top;\n",
              "    }\n",
              "\n",
              "    .dataframe thead th {\n",
              "        text-align: right;\n",
              "    }\n",
              "</style>\n",
              "<table border=\"1\" class=\"dataframe\">\n",
              "  <thead>\n",
              "    <tr style=\"text-align: right;\">\n",
              "      <th></th>\n",
              "      <th>AGE</th>\n",
              "    </tr>\n",
              "  </thead>\n",
              "  <tbody>\n",
              "    <tr>\n",
              "      <th>0</th>\n",
              "      <td>31.0</td>\n",
              "    </tr>\n",
              "    <tr>\n",
              "      <th>2</th>\n",
              "      <td>40.0</td>\n",
              "    </tr>\n",
              "    <tr>\n",
              "      <th>3</th>\n",
              "      <td>64.0</td>\n",
              "    </tr>\n",
              "    <tr>\n",
              "      <th>4</th>\n",
              "      <td>48.0</td>\n",
              "    </tr>\n",
              "    <tr>\n",
              "      <th>5</th>\n",
              "      <td>64.0</td>\n",
              "    </tr>\n",
              "  </tbody>\n",
              "</table>\n",
              "</div><br><label><b>dtype:</b> float64</label>"
            ]
          },
          "metadata": {},
          "execution_count": 21
        }
      ],
      "source": [
        "df['AGE'].head()"
      ]
    },
    {
      "cell_type": "code",
      "source": [
        "df['AGE'] = df['AGE'].round().astype(int)\n"
      ],
      "metadata": {
        "id": "bn09jNM_1ja5"
      },
      "execution_count": null,
      "outputs": []
    },
    {
      "cell_type": "code",
      "execution_count": null,
      "metadata": {
        "collapsed": true,
        "id": "aE2z5hkmwMtH",
        "colab": {
          "base_uri": "https://localhost:8080/",
          "height": 1000
        },
        "outputId": "ab251a36-acf5-49a5-fe51-c8e4d72c067c"
      },
      "outputs": [
        {
          "output_type": "execute_result",
          "data": {
            "text/plain": [
              "AGE\n",
              "38    2587\n",
              "47    2574\n",
              "37    2568\n",
              "42    2495\n",
              "39    2473\n",
              "40    2422\n",
              "41    2337\n",
              "36    2242\n",
              "46    2187\n",
              "35    2184\n",
              "34    2116\n",
              "48    2110\n",
              "32    2046\n",
              "33    2042\n",
              "45    1965\n",
              "31    1882\n",
              "44    1820\n",
              "43    1728\n",
              "30    1588\n",
              "29    1341\n",
              "50    1183\n",
              "49    1142\n",
              "53    1134\n",
              "28    1105\n",
              "54    1077\n",
              "52    1048\n",
              "56     989\n",
              "55     987\n",
              "51     939\n",
              "57     750\n",
              "58     631\n",
              "27     625\n",
              "59     510\n",
              "60     493\n",
              "61     389\n",
              "62     296\n",
              "26     292\n",
              "63     287\n",
              "64     238\n",
              "65     216\n",
              "25     203\n",
              "24     189\n",
              "66     173\n",
              "67     141\n",
              "23     123\n",
              "22      70\n",
              "21      30\n",
              "20      28\n",
              "19      21\n",
              "17      20\n",
              "18      18\n",
              "16      11\n",
              "Name: count, dtype: int64"
            ],
            "text/html": [
              "<div>\n",
              "<style scoped>\n",
              "    .dataframe tbody tr th:only-of-type {\n",
              "        vertical-align: middle;\n",
              "    }\n",
              "\n",
              "    .dataframe tbody tr th {\n",
              "        vertical-align: top;\n",
              "    }\n",
              "\n",
              "    .dataframe thead th {\n",
              "        text-align: right;\n",
              "    }\n",
              "</style>\n",
              "<table border=\"1\" class=\"dataframe\">\n",
              "  <thead>\n",
              "    <tr style=\"text-align: right;\">\n",
              "      <th></th>\n",
              "      <th>count</th>\n",
              "    </tr>\n",
              "    <tr>\n",
              "      <th>AGE</th>\n",
              "      <th></th>\n",
              "    </tr>\n",
              "  </thead>\n",
              "  <tbody>\n",
              "    <tr>\n",
              "      <th>38</th>\n",
              "      <td>2587</td>\n",
              "    </tr>\n",
              "    <tr>\n",
              "      <th>47</th>\n",
              "      <td>2574</td>\n",
              "    </tr>\n",
              "    <tr>\n",
              "      <th>37</th>\n",
              "      <td>2568</td>\n",
              "    </tr>\n",
              "    <tr>\n",
              "      <th>42</th>\n",
              "      <td>2495</td>\n",
              "    </tr>\n",
              "    <tr>\n",
              "      <th>39</th>\n",
              "      <td>2473</td>\n",
              "    </tr>\n",
              "    <tr>\n",
              "      <th>40</th>\n",
              "      <td>2422</td>\n",
              "    </tr>\n",
              "    <tr>\n",
              "      <th>41</th>\n",
              "      <td>2337</td>\n",
              "    </tr>\n",
              "    <tr>\n",
              "      <th>36</th>\n",
              "      <td>2242</td>\n",
              "    </tr>\n",
              "    <tr>\n",
              "      <th>46</th>\n",
              "      <td>2187</td>\n",
              "    </tr>\n",
              "    <tr>\n",
              "      <th>35</th>\n",
              "      <td>2184</td>\n",
              "    </tr>\n",
              "    <tr>\n",
              "      <th>34</th>\n",
              "      <td>2116</td>\n",
              "    </tr>\n",
              "    <tr>\n",
              "      <th>48</th>\n",
              "      <td>2110</td>\n",
              "    </tr>\n",
              "    <tr>\n",
              "      <th>32</th>\n",
              "      <td>2046</td>\n",
              "    </tr>\n",
              "    <tr>\n",
              "      <th>33</th>\n",
              "      <td>2042</td>\n",
              "    </tr>\n",
              "    <tr>\n",
              "      <th>45</th>\n",
              "      <td>1965</td>\n",
              "    </tr>\n",
              "    <tr>\n",
              "      <th>31</th>\n",
              "      <td>1882</td>\n",
              "    </tr>\n",
              "    <tr>\n",
              "      <th>44</th>\n",
              "      <td>1820</td>\n",
              "    </tr>\n",
              "    <tr>\n",
              "      <th>43</th>\n",
              "      <td>1728</td>\n",
              "    </tr>\n",
              "    <tr>\n",
              "      <th>30</th>\n",
              "      <td>1588</td>\n",
              "    </tr>\n",
              "    <tr>\n",
              "      <th>29</th>\n",
              "      <td>1341</td>\n",
              "    </tr>\n",
              "    <tr>\n",
              "      <th>50</th>\n",
              "      <td>1183</td>\n",
              "    </tr>\n",
              "    <tr>\n",
              "      <th>49</th>\n",
              "      <td>1142</td>\n",
              "    </tr>\n",
              "    <tr>\n",
              "      <th>53</th>\n",
              "      <td>1134</td>\n",
              "    </tr>\n",
              "    <tr>\n",
              "      <th>28</th>\n",
              "      <td>1105</td>\n",
              "    </tr>\n",
              "    <tr>\n",
              "      <th>54</th>\n",
              "      <td>1077</td>\n",
              "    </tr>\n",
              "    <tr>\n",
              "      <th>52</th>\n",
              "      <td>1048</td>\n",
              "    </tr>\n",
              "    <tr>\n",
              "      <th>56</th>\n",
              "      <td>989</td>\n",
              "    </tr>\n",
              "    <tr>\n",
              "      <th>55</th>\n",
              "      <td>987</td>\n",
              "    </tr>\n",
              "    <tr>\n",
              "      <th>51</th>\n",
              "      <td>939</td>\n",
              "    </tr>\n",
              "    <tr>\n",
              "      <th>57</th>\n",
              "      <td>750</td>\n",
              "    </tr>\n",
              "    <tr>\n",
              "      <th>58</th>\n",
              "      <td>631</td>\n",
              "    </tr>\n",
              "    <tr>\n",
              "      <th>27</th>\n",
              "      <td>625</td>\n",
              "    </tr>\n",
              "    <tr>\n",
              "      <th>59</th>\n",
              "      <td>510</td>\n",
              "    </tr>\n",
              "    <tr>\n",
              "      <th>60</th>\n",
              "      <td>493</td>\n",
              "    </tr>\n",
              "    <tr>\n",
              "      <th>61</th>\n",
              "      <td>389</td>\n",
              "    </tr>\n",
              "    <tr>\n",
              "      <th>62</th>\n",
              "      <td>296</td>\n",
              "    </tr>\n",
              "    <tr>\n",
              "      <th>26</th>\n",
              "      <td>292</td>\n",
              "    </tr>\n",
              "    <tr>\n",
              "      <th>63</th>\n",
              "      <td>287</td>\n",
              "    </tr>\n",
              "    <tr>\n",
              "      <th>64</th>\n",
              "      <td>238</td>\n",
              "    </tr>\n",
              "    <tr>\n",
              "      <th>65</th>\n",
              "      <td>216</td>\n",
              "    </tr>\n",
              "    <tr>\n",
              "      <th>25</th>\n",
              "      <td>203</td>\n",
              "    </tr>\n",
              "    <tr>\n",
              "      <th>24</th>\n",
              "      <td>189</td>\n",
              "    </tr>\n",
              "    <tr>\n",
              "      <th>66</th>\n",
              "      <td>173</td>\n",
              "    </tr>\n",
              "    <tr>\n",
              "      <th>67</th>\n",
              "      <td>141</td>\n",
              "    </tr>\n",
              "    <tr>\n",
              "      <th>23</th>\n",
              "      <td>123</td>\n",
              "    </tr>\n",
              "    <tr>\n",
              "      <th>22</th>\n",
              "      <td>70</td>\n",
              "    </tr>\n",
              "    <tr>\n",
              "      <th>21</th>\n",
              "      <td>30</td>\n",
              "    </tr>\n",
              "    <tr>\n",
              "      <th>20</th>\n",
              "      <td>28</td>\n",
              "    </tr>\n",
              "    <tr>\n",
              "      <th>19</th>\n",
              "      <td>21</td>\n",
              "    </tr>\n",
              "    <tr>\n",
              "      <th>17</th>\n",
              "      <td>20</td>\n",
              "    </tr>\n",
              "    <tr>\n",
              "      <th>18</th>\n",
              "      <td>18</td>\n",
              "    </tr>\n",
              "    <tr>\n",
              "      <th>16</th>\n",
              "      <td>11</td>\n",
              "    </tr>\n",
              "  </tbody>\n",
              "</table>\n",
              "</div><br><label><b>dtype:</b> int64</label>"
            ]
          },
          "metadata": {},
          "execution_count": 23
        }
      ],
      "source": [
        "df['AGE'].value_counts()"
      ]
    },
    {
      "cell_type": "code",
      "execution_count": null,
      "metadata": {
        "id": "7kL2aOAMxU5m",
        "colab": {
          "base_uri": "https://localhost:8080/"
        },
        "outputId": "35cfd547-0c81-4102-b46e-0f3c69e4a2be"
      },
      "outputs": [
        {
          "output_type": "stream",
          "name": "stdout",
          "text": [
            "Total number of outliers detected across columns: 0\n",
            "Original data shape: (58065, 23)\n",
            "Data shape after removing outliers: (58065, 23)\n"
          ]
        }
      ],
      "source": [
        "df =ps. detect_outliers(df, method='iqr', threshold=1.5,columns='AGE'  )"
      ]
    },
    {
      "cell_type": "markdown",
      "metadata": {
        "id": "CAR7VJ_umhNi"
      },
      "source": [
        "**Gender Distribution**\n",
        "\n",
        "Graph Type: Bar Plot\n",
        "\n",
        "Purpose: To show the number of members by gender."
      ]
    },
    {
      "cell_type": "code",
      "execution_count": null,
      "metadata": {
        "id": "tla5_iv-FbIG"
      },
      "outputs": [],
      "source": [
        "member_breakdown= df['GENDER'].value_counts()\n"
      ]
    },
    {
      "cell_type": "code",
      "execution_count": null,
      "metadata": {
        "id": "N3d-isEtHRNB"
      },
      "outputs": [],
      "source": [
        "bar_xaxis=member_breakdown.index"
      ]
    },
    {
      "cell_type": "code",
      "execution_count": null,
      "metadata": {
        "id": "Z3a73RxEJY_D"
      },
      "outputs": [],
      "source": [
        "bar_yaxis=member_breakdown.values"
      ]
    },
    {
      "cell_type": "code",
      "execution_count": null,
      "metadata": {
        "id": "-JuLcU4CKJ_o",
        "colab": {
          "base_uri": "https://localhost:8080/",
          "height": 489
        },
        "outputId": "cc0d792c-923a-42c9-ba91-220531d241a2"
      },
      "outputs": [
        {
          "output_type": "execute_result",
          "data": {
            "text/plain": [
              "Text(0.5, 0, 'Gender')"
            ]
          },
          "metadata": {},
          "execution_count": 28
        },
        {
          "output_type": "display_data",
          "data": {
            "text/plain": [
              "<Figure size 640x480 with 1 Axes>"
            ],
            "image/png": "[encoded data removed]"
          },
          "metadata": {}
        }
      ],
      "source": [
        "plt.bar(bar_xaxis ,bar_yaxis)\n",
        "plt.title('Gender Breakdown')\n",
        "plt.ylabel('Count')\n",
        "plt.xlabel('Gender')"
      ]
    },
    {
      "cell_type": "markdown",
      "metadata": {
        "id": "KNUj0f60P8Bs"
      },
      "source": [
        "**Flight Count vs. Points Sum**\n",
        "\n",
        "Graph Type: Scatter Plot\n",
        "\n",
        "Purpose: To see the correlation between flight count and total points accumulated."
      ]
    },
    {
      "cell_type": "code",
      "execution_count": null,
      "metadata": {
        "colab": {
          "base_uri": "https://localhost:8080/",
          "height": 489
        },
        "id": "0J9bBpKEPooZ",
        "outputId": "c7a202a5-c06a-40b1-d5af-d94d6a154f65"
      },
      "outputs": [
        {
          "output_type": "execute_result",
          "data": {
            "text/plain": [
              "Text(0.5, 0, 'Points Sum')"
            ]
          },
          "metadata": {},
          "execution_count": 29
        },
        {
          "output_type": "display_data",
          "data": {
            "text/plain": [
              "<Figure size 640x480 with 1 Axes>"
            ],
            "image/png": "[encoded data removed]"
          },
          "metadata": {}
        }
      ],
      "source": [
        "plt.scatter(df['FLIGHT_COUNT'], df['Points_Sum'])\n",
        "plt.title('Flight Count vs. Points Sum')\n",
        "plt.ylabel('Flight Count')\n",
        "plt.xlabel('Points Sum')"
      ]
    },
    {
      "cell_type": "markdown",
      "metadata": {
        "id": "MBT_vcvBXSi6"
      },
      "source": [
        "**Top Country for Work**\n",
        "\n",
        "Graph Type: Bar Plot\n",
        "\n",
        "\n",
        "Purpose: To see the top countries where members work."
      ]
    },
    {
      "cell_type": "code",
      "execution_count": null,
      "metadata": {
        "colab": {
          "base_uri": "https://localhost:8080/",
          "height": 495
        },
        "id": "H85OD9riR1xi",
        "outputId": "27003f08-a7f2-4e61-b1fd-3b6af2a3f90a"
      },
      "outputs": [
        {
          "output_type": "execute_result",
          "data": {
            "text/plain": [
              "Text(0.5, 0, 'Gender')"
            ]
          },
          "metadata": {},
          "execution_count": 30
        },
        {
          "output_type": "display_data",
          "data": {
            "text/plain": [
              "<Figure size 640x480 with 1 Axes>"
            ],
            "image/png": "[encoded data removed]"
          },
          "metadata": {}
        }
      ],
      "source": [
        "df[\"WORK_COUNTRY\"].value_counts().head().plot(kind='bar', color=['red','blue','green','yellow','orange'])\n",
        "plt.title('WORK COUNTRY Breakdown')\n",
        "plt.ylabel('Count')\n",
        "plt.xlabel('Gender')\n"
      ]
    },
    {
      "cell_type": "markdown",
      "metadata": {
        "id": "ndDUMkO9ev-4"
      },
      "source": [
        "**Membership Tier Distribution**\n",
        "\n",
        "Graph Type: Pie Chart\n",
        "\n",
        "Purpose: To display the proportion of members in different frequent flyer program tiers.\n",
        "\n"
      ]
    },
    {
      "cell_type": "code",
      "execution_count": null,
      "metadata": {
        "colab": {
          "base_uri": "https://localhost:8080/"
        },
        "id": "h9ZGbvFvatig",
        "outputId": "625ae5e6-a4e0-4524-f1dd-50bf250e5650"
      },
      "outputs": [
        {
          "output_type": "stream",
          "name": "stderr",
          "text": [
            "<ipython-input-31-cb52c8aed24c>:1: FutureWarning: A value is trying to be set on a copy of a DataFrame or Series through chained assignment using an inplace method.\n",
            "The behavior will change in pandas 3.0. This inplace method will never work because the intermediate object on which we are setting values always behaves as a copy.\n",
            "\n",
            "For example, when doing 'df[col].method(value, inplace=True)', try using 'df.method({col: value}, inplace=True)' or df[col] = df[col].method(value) instead, to perform the operation inplace on the original object.\n",
            "\n",
            "\n",
            "  df['FFP_TIER'].replace({4: 'Medium Tier', 5: 'High Tier', 6: 'Highest Tier'}, inplace=True)\n"
          ]
        }
      ],
      "source": [
        "df['FFP_TIER'].replace({4: 'Medium Tier', 5: 'High Tier', 6: 'Highest Tier'}, inplace=True)"
      ]
    },
    {
      "cell_type": "code",
      "execution_count": null,
      "metadata": {
        "colab": {
          "base_uri": "https://localhost:8080/",
          "height": 423
        },
        "id": "7eyt--_Ke0hC",
        "outputId": "6fae5a24-4720-4213-85c5-3feb91893470"
      },
      "outputs": [
        {
          "output_type": "execute_result",
          "data": {
            "text/plain": [
              "<Axes: ylabel='count'>"
            ]
          },
          "metadata": {},
          "execution_count": 32
        },
        {
          "output_type": "display_data",
          "data": {
            "text/plain": [
              "<Figure size 640x480 with 1 Axes>"
            ],
            "image/png": "[encoded data removed]"
          },
          "metadata": {}
        }
      ],
      "source": [
        "df['FFP_TIER'].value_counts().plot(kind='pie', autopct='%1.1f%%' ,shadow=True ,explode = [0.1, 0, 0] ,colors=['skyblue', 'lightgreen', 'orange', 'yellow'])"
      ]
    },
    {
      "cell_type": "markdown",
      "source": [
        "***Age Distribution***:\n",
        "\n",
        "Graph Type: Histogram\n",
        "\n",
        "Purpose: To visualize the distribution of ages in the dataset.\n"
      ],
      "metadata": {
        "id": "BeOKAPLDR7LL"
      }
    },
    {
      "cell_type": "code",
      "execution_count": null,
      "metadata": {
        "colab": {
          "base_uri": "https://localhost:8080/",
          "height": 489
        },
        "id": "CeuAJ2hQJOXx",
        "outputId": "2f514849-ec67-4fae-a8c8-135a3f50b042"
      },
      "outputs": [
        {
          "output_type": "execute_result",
          "data": {
            "text/plain": [
              "Text(0.5, 0, 'AGE')"
            ]
          },
          "metadata": {},
          "execution_count": 33
        },
        {
          "output_type": "display_data",
          "data": {
            "text/plain": [
              "<Figure size 640x480 with 1 Axes>"
            ],
            "image/png": "[encoded data removed]"
          },
          "metadata": {}
        }
      ],
      "source": [
        "plt.hist(df['AGE'], bins=200)\n",
        "plt.title('Age Distribution')\n",
        "plt.ylabel('Count')\n",
        "plt.xlabel('AGE')"
      ]
    },
    {
      "cell_type": "markdown",
      "source": [
        "FLIGHT_COUNT:\n",
        "* Number of flights taken by each customer\n",
        "\n",
        "\n"
      ],
      "metadata": {
        "id": "7Qv-2fVBVP3N"
      }
    },
    {
      "cell_type": "code",
      "source": [
        "plt.hist(df['FLIGHT_COUNT'], bins=10)\n",
        "plt.title('Number of flights taken by each customer')\n",
        "plt.ylabel('FLIGHT Count')\n",
        "plt.xlabel(' customer')"
      ],
      "metadata": {
        "colab": {
          "base_uri": "https://localhost:8080/",
          "height": 489
        },
        "id": "eog-AUsmVLiT",
        "outputId": "e14c4653-2177-470b-fbad-e592a540a1cb"
      },
      "execution_count": null,
      "outputs": [
        {
          "output_type": "execute_result",
          "data": {
            "text/plain": [
              "Text(0.5, 0, ' customer')"
            ]
          },
          "metadata": {},
          "execution_count": 34
        },
        {
          "output_type": "display_data",
          "data": {
            "text/plain": [
              "<Figure size 640x480 with 1 Axes>"
            ],
            "image/png": "[encoded data removed]"
          },
          "metadata": {}
        }
      ]
    },
    {
      "cell_type": "markdown",
      "source": [
        "GENDER vs. Points_Sum\n",
        "\n",
        "Use a bar plot to compare the total points earned by gender."
      ],
      "metadata": {
        "id": "7vAM9JtjOCMr"
      }
    },
    {
      "cell_type": "code",
      "source": [
        "df.groupby('GENDER')['Points_Sum'].mean().plot(kind='bar', color='orange')\n",
        "plt.title('Average Points Earned by Gender')\n",
        "plt.xlabel('Gender')\n",
        "plt.ylabel('Average Points')\n",
        "plt.show()\n"
      ],
      "metadata": {
        "colab": {
          "base_uri": "https://localhost:8080/",
          "height": 508
        },
        "id": "YmihTsqSOGJp",
        "outputId": "4524573b-293d-4dac-9dd5-7d6e00634c0e"
      },
      "execution_count": null,
      "outputs": [
        {
          "output_type": "display_data",
          "data": {
            "text/plain": [
              "<Figure size 640x480 with 1 Axes>"
            ],
            "image/png": "[encoded data removed]"
          },
          "metadata": {}
        }
      ]
    },
    {
      "cell_type": "markdown",
      "source": [
        "TIME SERIES ANALYSIS"
      ],
      "metadata": {
        "id": "NoaKvsrhdiyQ"
      }
    },
    {
      "cell_type": "code",
      "source": [
        "df['FFP_DATE'] = pd.to_datetime(df['FFP_DATE'])\n",
        "\n",
        "# Create a time series plot by grouping data by date and counting records\n",
        "time_series_data = df.groupby(df['FFP_DATE'].dt.to_period(\"M\")).size()\n",
        "\n",
        "# Plot the time series\n",
        "plt.figure(figsize=(10,6))\n",
        "time_series_data.plot(kind='line', color='blue', marker='o')\n",
        "\n",
        "plt.title('Customer Enrollment Over Time')\n",
        "plt.xlabel('Date (Monthly)')\n",
        "plt.ylabel('Number of Customers')\n",
        "plt.grid(True)\n",
        "plt.xticks(rotation=45)\n",
        "plt.show()"
      ],
      "metadata": {
        "colab": {
          "base_uri": "https://localhost:8080/",
          "height": 585
        },
        "id": "3LPetpR2743l",
        "outputId": "c342d747-9cde-46c2-fa00-3de3e23d5d70"
      },
      "execution_count": null,
      "outputs": [
        {
          "output_type": "display_data",
          "data": {
            "text/plain": [
              "<Figure size 1000x600 with 1 Axes>"
            ],
            "image/png": "[encoded data removed]"
          },
          "metadata": {}
        }
      ]
    },
    {
      "cell_type": "markdown",
      "source": [
        "**Conclusion**\n",
        "\n",
        "The analysis of the frequent flyer dataset reveals key opportunities for improving customer engagement and loyalty. The largest customer segment is between 35-45 years old, suggesting a potential focus for targeted marketing. Most customers remain in the basic tier, highlighting an opportunity to increase loyalty and move them to higher tiers with appropriate incentives.\n",
        "\n",
        "By addressing data issues and leveraging insights about flight patterns and customer behavior, the business can better retain high-tier customers, reduce churn, and attract inactive customers back with personalized offers. These steps can ultimately drive higher revenue and customer satisfaction.\n",
        "\n",
        "\n",
        "\n",
        "\n",
        "\n",
        "\n"
      ],
      "metadata": {
        "id": "k1XHdpBxKQCi"
      }
    },
    {
      "cell_type": "markdown",
      "source": [
        " **How I used chatgpt for this project**"
      ],
      "metadata": {
        "id": "WcEFc6fnyOsA"
      }
    },
    {
      "cell_type": "markdown",
      "source": [
        "In this project, I used ChatGPT to find a suitable airline customer dataset, gain insights into customer behavior, and clarify unclear data column definitions. It provided guidance on handling null values and managing imbalanced data, which was essential for accurate analysis. ChatGPT also helped me explore the potential benefits of my analysis and graph suggestions for customer segmentation. By refining my prompts iteratively, I ensured more precise responses, helping me achieve the desired results throughout the project."
      ],
      "metadata": {
        "id": "42vUoJrB_mgg"
      }
    }
  ],
  "metadata": {
    "colab": {
      "provenance": [],
      "authorship_tag": "ABX9TyMXsdryIXKEZy13SttH+ryH",
      "include_colab_link": true
    },
    "kernelspec": {
      "display_name": "Python 3",
      "name": "python3"
    },
    "language_info": {
      "name": "python"
    }
  },
  "nbformat": 4,
  "nbformat_minor": 0
}